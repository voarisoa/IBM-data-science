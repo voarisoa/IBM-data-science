{
 "cells": [
  {
   "cell_type": "markdown",
   "id": "205e97e1",
   "metadata": {},
   "source": [
    "# Data Science Tools and Ecosystem\n"
   ]
  },
  {
   "cell_type": "markdown",
   "id": "dbe5e134",
   "metadata": {},
   "source": [
    "In this notebook, Data Science Tools and Ecosystem are summarized."
   ]
  },
  {
   "cell_type": "markdown",
   "id": "394ee6a9",
   "metadata": {},
   "source": [
    "<b> Some of the popular languages that Data Scientists use are: <b>\n"
   ]
  },
  {
   "cell_type": "code",
   "execution_count": null,
   "id": "dfeec5a7",
   "metadata": {},
   "outputs": [],
   "source": [
    "1. Python\n",
    "2. R \n",
    "3. SQL  "
   ]
  },
  {
   "cell_type": "markdown",
   "id": "9e88325f",
   "metadata": {},
   "source": [
    "<b> Some of the commonly used libraries used by Data Scientists include: <b>"
   ]
  },
  {
   "cell_type": "markdown",
   "id": "cf479ae2",
   "metadata": {},
   "source": [
    "1. TensorFlow\n",
    "2. SciPy\n",
    "3. NumPy\n",
    "4. Pandas\n",
    "5. Pytorch"
   ]
  },
  {
   "cell_type": "markdown",
   "id": "88bf9f82",
   "metadata": {},
   "source": [
    "<b> Data Science Tools.<b>"
   ]
  },
  {
   "cell_type": "markdown",
   "id": "d9e0576a",
   "metadata": {},
   "source": [
    "|Data Science tools|\n",
    "|------------|\n",
    "|Jupyter Notebook|\n",
    "|RStudio|\n",
    "|Apache Spark|"
   ]
  },
  {
   "cell_type": "markdown",
   "id": "35b418b8",
   "metadata": {},
   "source": [
    "### Below are a few examples of evaluating arithmetic expressions in Python\n"
   ]
  },
  {
   "cell_type": "code",
   "execution_count": 13,
   "id": "616b30e5",
   "metadata": {},
   "outputs": [
    {
     "name": "stdout",
     "output_type": "stream",
     "text": [
      "17\n",
      "True\n"
     ]
    }
   ],
   "source": [
    "# This a simple arithmetic expression to mutiply then add integers.\n",
    "result = (3*4)+5\n",
    "print(result)\n",
    "print(result == 17)"
   ]
  },
  {
   "cell_type": "code",
   "execution_count": 14,
   "id": "209a9823",
   "metadata": {},
   "outputs": [
    {
     "name": "stdout",
     "output_type": "stream",
     "text": [
      "3.3333333333333335\n"
     ]
    }
   ],
   "source": [
    "# This will convert 200 minutes to hours by diving by 60\n",
    "print(200/60)\n"
   ]
  },
  {
   "cell_type": "code",
   "execution_count": 1,
   "id": "f76818c9",
   "metadata": {},
   "outputs": [
    {
     "name": "stdout",
     "output_type": "stream",
     "text": [
      "This a simple arithmetic expression to mutiply then add integers\n"
     ]
    }
   ],
   "source": [
    "print(\"This a simple arithmetic expression to mutiply then add integers\")"
   ]
  },
  {
   "cell_type": "markdown",
   "id": "96fb0af6",
   "metadata": {},
   "source": [
    "<b> Objectives:</b>  list popular languages for Data Science."
   ]
  },
  {
   "cell_type": "markdown",
   "id": "389e5532",
   "metadata": {},
   "source": [
    "- Python\n",
    "- R \n",
    "- SQL "
   ]
  },
  {
   "cell_type": "markdown",
   "id": "71139808",
   "metadata": {},
   "source": [
    "## Author "
   ]
  },
  {
   "cell_type": "markdown",
   "id": "d230bbbc",
   "metadata": {},
   "source": [
    "Name: Irina Ramanandraitsiory"
   ]
  },
  {
   "cell_type": "code",
   "execution_count": null,
   "id": "41da18d9",
   "metadata": {},
   "outputs": [],
   "source": []
  }
 ],
 "metadata": {
  "kernelspec": {
   "display_name": "Python 3 (ipykernel)",
   "language": "python",
   "name": "python3"
  },
  "language_info": {
   "codemirror_mode": {
    "name": "ipython",
    "version": 3
   },
   "file_extension": ".py",
   "mimetype": "text/x-python",
   "name": "python",
   "nbconvert_exporter": "python",
   "pygments_lexer": "ipython3",
   "version": "3.11.5"
  }
 },
 "nbformat": 4,
 "nbformat_minor": 5
}
